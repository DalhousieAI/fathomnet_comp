{
 "cells": [
  {
   "cell_type": "code",
   "execution_count": 23,
   "id": "cd1932a8",
   "metadata": {},
   "outputs": [],
   "source": [
    "import pandas as pd\n",
    "hierarchy_annotations = pd.read_csv(\"../fgvc-comp-2025/datasets/hierarchy_labels_train.csv\")"
   ]
  },
  {
   "cell_type": "code",
   "execution_count": 24,
   "id": "bfac71b8",
   "metadata": {},
   "outputs": [],
   "source": [
    "import json\n",
    "index_to_taxon_map = json.load(open(\"../fgvc-comp-2025/datasets/index_to_taxon.json\"))"
   ]
  },
  {
   "cell_type": "code",
   "execution_count": 25,
   "id": "d39581c5",
   "metadata": {},
   "outputs": [
    {
     "name": "stdout",
     "output_type": "stream",
     "text": [
      "Domain leaf nodes: []\n",
      "Kingdom leaf nodes: []\n",
      "Phylum leaf nodes: [8]\n",
      "Class leaf nodes: [9, 10, 13, 16, 18, 19, 23, 27]\n",
      "Order leaf nodes: [28, 29, 30, 32, 53, 60]\n",
      "Family leaf nodes: [67, 77, 78, 82, 86, 89, 102, 106, 108]\n",
      "Genus leaf nodes: [112, 113, 114, 116, 121, 122, 123, 125, 127, 130, 132, 133, 139, 140, 145, 147, 148, 155, 156, 157, 158, 160]\n",
      "Species leaf nodes: [161, 162, 163, 164, 165, 166, 167, 168, 169, 170, 171, 172, 173, 174, 175, 176, 177, 178, 179, 180, 181, 182, 183, 184, 185, 186, 187, 188, 189, 190, 191, 192, 193]\n"
     ]
    }
   ],
   "source": [
    "# Define the hierarchical levels in order\n",
    "levels = [\"Domain\", \"Kingdom\", \"Phylum\", \"Class\", \"Order\", \"Family\", \"Genus\", \"Species\"]\n",
    "\n",
    "def find_leaf(row):\n",
    "    \"\"\"\n",
    "    For a given row, return a Series containing:\n",
    "    - leaf_level: The hierarchical column (level) where classification ends.\n",
    "    - leaf_value: The value in that column.\n",
    "    \"\"\"\n",
    "    leaf_level = None\n",
    "    leaf_value = None\n",
    "    for level in levels:\n",
    "        value = row.get(level)\n",
    "        if pd.notnull(value) and value != \"\":\n",
    "            leaf_level = level\n",
    "            leaf_value = int(value)\n",
    "    return pd.Series({\"leaf_level\": leaf_level, \"leaf_value\": leaf_value})\n",
    "\n",
    "# Apply the find_leaf function to each row\n",
    "hierarchy_annotations[[\"leaf_level\", \"leaf_value\"]] = hierarchy_annotations.apply(find_leaf, axis=1)\n",
    "\n",
    "# For each level, collect the unique leaf nodes that end at that level\n",
    "leaf_nodes_by_level = {}\n",
    "for lvl in levels:\n",
    "    leaf_nodes = hierarchy_annotations[hierarchy_annotations[\"leaf_level\"] == lvl][\"leaf_value\"].unique().tolist()\n",
    "    leaf_nodes_by_level[lvl] = leaf_nodes\n",
    "    print(f\"{lvl} leaf nodes: {sorted(leaf_nodes)}\")\n"
   ]
  },
  {
   "cell_type": "code",
   "execution_count": 26,
   "id": "ae0456db",
   "metadata": {},
   "outputs": [
    {
     "name": "stdout",
     "output_type": "stream",
     "text": [
      "   Domain  Kingdom  Phylum  Class  Order  Family  Genus  Species  \\\n",
      "0       0        1       4   25.0   47.0   101.0  157.0      NaN   \n",
      "1       0        1       6   19.0   55.0   103.0  115.0    162.0   \n",
      "2       0        1       6   19.0   37.0    72.0  155.0      NaN   \n",
      "3       0        1       5   22.0   54.0    79.0  133.0      NaN   \n",
      "4       0        1       5   22.0   54.0    79.0  133.0      NaN   \n",
      "\n",
      "  detected_leaf_level  detected_leaf_value  \n",
      "0               Genus                  157  \n",
      "1               Class                   19  \n",
      "2               Class                   19  \n",
      "3               Genus                  133  \n",
      "4               Genus                  133  \n"
     ]
    }
   ],
   "source": [
    "def find_first_leaf_in_row(row, leaf_nodes_by_level, levels):\n",
    "    \"\"\"\n",
    "    For a given row, iterate through levels in order.\n",
    "    For each level, check if the row's value is in the list of leaf nodes for that level.\n",
    "    Terminate and return the first matching level and value.\n",
    "    \"\"\"\n",
    "    for level in levels:\n",
    "        value = row.get(level)\n",
    "        if pd.notnull(value) and value != \"\":\n",
    "            # Convert value to int as leaf nodes were cast to int earlier\n",
    "            value_int = int(value)\n",
    "            if value_int in leaf_nodes_by_level[level]:\n",
    "                return pd.Series({\"detected_leaf_level\": level, \"detected_leaf_value\": value_int})\n",
    "    return pd.Series({\"detected_leaf_level\": None, \"detected_leaf_value\": None})\n",
    "\n",
    "# Apply the function to each row\n",
    "hierarchy_annotations[[\"detected_leaf_level\", \"detected_leaf_value\"]] = hierarchy_annotations.apply(\n",
    "    find_first_leaf_in_row, args=(leaf_nodes_by_level, levels), axis=1\n",
    ")\n",
    "\n",
    "# Print a few sample rows to check results\n",
    "print(hierarchy_annotations[[\"Domain\", \"Kingdom\", \"Phylum\", \"Class\", \"Order\", \"Family\", \"Genus\", \"Species\",\n",
    "                             \"detected_leaf_level\", \"detected_leaf_value\"]].head())"
   ]
  },
  {
   "cell_type": "code",
   "execution_count": 27,
   "id": "ed6b27f8",
   "metadata": {},
   "outputs": [],
   "source": [
    "new_df = hierarchy_annotations[[\"annotation_id\", \"detected_leaf_value\"]].rename(columns={\"detected_leaf_value\": \"label\"})\n",
    "new_df[\"label\"] = new_df[\"label\"].apply(\n",
    "    lambda x: index_to_taxon_map[str(int(x))]\n",
    "    )"
   ]
  },
  {
   "cell_type": "code",
   "execution_count": 28,
   "id": "4f29683b",
   "metadata": {},
   "outputs": [],
   "source": [
    "csv_output_path = \"cfg/hierarchy/leafnode_labels_train.csv\"\n",
    "\n",
    "new_df.to_csv(csv_output_path, index=False)"
   ]
  },
  {
   "cell_type": "code",
   "execution_count": 29,
   "id": "0449aaa9",
   "metadata": {},
   "outputs": [
    {
     "name": "stdout",
     "output_type": "stream",
     "text": [
      "Frequency distribution saved to cfg/hierarchy/leafnode_labels_train.csv\n",
      "Frequency Distribution of Labels:\n",
      "label\n",
      "Acanthoptilum                   300\n",
      "Actiniaria                     1800\n",
      "Actinopterygii                  300\n",
      "Amphipoda                       300\n",
      "Asteroidea                     1500\n",
      "Benthocodon pedunculata         300\n",
      "Caridea                         300\n",
      "Ceriantharia                    300\n",
      "Chionoecetes tanneri            300\n",
      "Chorilia longipes               300\n",
      "Corallimorphus pilatus          300\n",
      "Crinoidea                       900\n",
      "Delectopecten                   300\n",
      "Funiculina                      300\n",
      "Gastropoda                      300\n",
      "Gersemia juliepackardae         300\n",
      "Heterocarpus                    300\n",
      "Heteropolypus ritteri           300\n",
      "Holothuroidea                  2999\n",
      "Isidella tentaculum             300\n",
      "Isididae                        300\n",
      "Keratoisis                      300\n",
      "Lithodidae                      600\n",
      "Merluccius productus            300\n",
      "Microstomus pacificus           300\n",
      "Munidopsis                      300\n",
      "Munnopsidae                     300\n",
      "Octopus rubescens               300\n",
      "Ophiuroidea                     600\n",
      "Pandalus amplus                 300\n",
      "Pandalus platyceros             300\n",
      "Paragorgia                      600\n",
      "Parastenella                    300\n",
      "Pennatula phosphorea            300\n",
      "Porifera                       2700\n",
      "Ptychogastria polaris           300\n",
      "Pyrosoma atlanticum             300\n",
      "Scleractinia                    300\n",
      "Sebastes                        600\n",
      "Sebastolobus                    300\n",
      "Serpulidae                      300\n",
      "Strongylocentrotus fragilis     300\n",
      "Terebellidae                    300\n",
      "Tunicata                        300\n",
      "Umbellula                       300\n",
      "Vesicomyidae                    300\n",
      "Zoantharia                      300\n",
      "Name: count, dtype: int64\n"
     ]
    }
   ],
   "source": [
    "print(f\"Frequency distribution saved to {csv_output_path}\")\n",
    "freq_dist = new_df[\"label\"].value_counts().sort_index()\n",
    "\n",
    "# Print frequency distribution\n",
    "print(\"Frequency Distribution of Labels:\")\n",
    "print(freq_dist)\n"
   ]
  },
  {
   "cell_type": "code",
   "execution_count": 30,
   "id": "7f8c60c4",
   "metadata": {},
   "outputs": [
    {
     "data": {
      "text/plain": [
       "{'Acanthoptilum': 1.6807801418439716,\n",
       " 'Actiniaria': 0.2801300236406619,\n",
       " 'Actinopterygii': 1.6807801418439716,\n",
       " 'Amphipoda': 1.6807801418439716,\n",
       " 'Asteroidea': 0.3361560283687943,\n",
       " 'Benthocodon pedunculata': 1.6807801418439716,\n",
       " 'Caridea': 1.6807801418439716,\n",
       " 'Ceriantharia': 1.6807801418439716,\n",
       " 'Chionoecetes tanneri': 1.6807801418439716,\n",
       " 'Chorilia longipes': 1.6807801418439716,\n",
       " 'Corallimorphus pilatus': 1.6807801418439716,\n",
       " 'Crinoidea': 0.5602600472813238,\n",
       " 'Delectopecten': 1.6807801418439716,\n",
       " 'Funiculina': 1.6807801418439716,\n",
       " 'Gastropoda': 1.6807801418439716,\n",
       " 'Gersemia juliepackardae': 1.6807801418439716,\n",
       " 'Heterocarpus': 1.6807801418439716,\n",
       " 'Heteropolypus ritteri': 1.6807801418439716,\n",
       " 'Holothuroidea': 0.1681340588706874,\n",
       " 'Isidella tentaculum': 1.6807801418439716,\n",
       " 'Isididae': 1.6807801418439716,\n",
       " 'Keratoisis': 1.6807801418439716,\n",
       " 'Lithodidae': 0.8403900709219858,\n",
       " 'Merluccius productus': 1.6807801418439716,\n",
       " 'Microstomus pacificus': 1.6807801418439716,\n",
       " 'Munidopsis': 1.6807801418439716,\n",
       " 'Munnopsidae': 1.6807801418439716,\n",
       " 'Octopus rubescens': 1.6807801418439716,\n",
       " 'Ophiuroidea': 0.8403900709219858,\n",
       " 'Pandalus amplus': 1.6807801418439716,\n",
       " 'Pandalus platyceros': 1.6807801418439716,\n",
       " 'Paragorgia': 0.8403900709219858,\n",
       " 'Parastenella': 1.6807801418439716,\n",
       " 'Pennatula phosphorea': 1.6807801418439716,\n",
       " 'Porifera': 0.1867533490937746,\n",
       " 'Ptychogastria polaris': 1.6807801418439716,\n",
       " 'Pyrosoma atlanticum': 1.6807801418439716,\n",
       " 'Scleractinia': 1.6807801418439716,\n",
       " 'Sebastes': 0.8403900709219858,\n",
       " 'Sebastolobus': 1.6807801418439716,\n",
       " 'Serpulidae': 1.6807801418439716,\n",
       " 'Strongylocentrotus fragilis': 1.6807801418439716,\n",
       " 'Terebellidae': 1.6807801418439716,\n",
       " 'Tunicata': 1.6807801418439716,\n",
       " 'Umbellula': 1.6807801418439716,\n",
       " 'Vesicomyidae': 1.6807801418439716,\n",
       " 'Zoantharia': 1.6807801418439716}"
      ]
     },
     "execution_count": 30,
     "metadata": {},
     "output_type": "execute_result"
    }
   ],
   "source": [
    "def assign_class_weights(df):\n",
    "    freq_dist = df[\"label\"].value_counts().sort_index()\n",
    "    \n",
    "    total_samples = freq_dist.sum()\n",
    "    n_classes = len(freq_dist)\n",
    "    class_weights = {}\n",
    "    \n",
    "    # Compute weight for each class\n",
    "    for cls, count in freq_dist.items():\n",
    "        # Avoid division by zero (if a class count is 0, though it should not occur in this context)\n",
    "        if count > 0:\n",
    "            class_weights[cls] = total_samples / (n_classes * count)\n",
    "        else:\n",
    "            class_weights[cls] = 0.0\n",
    "    return class_weights\n",
    "\n",
    "assign_class_weights(new_df)"
   ]
  }
 ],
 "metadata": {
  "kernelspec": {
   "display_name": "myenv",
   "language": "python",
   "name": "python3"
  },
  "language_info": {
   "codemirror_mode": {
    "name": "ipython",
    "version": 3
   },
   "file_extension": ".py",
   "mimetype": "text/x-python",
   "name": "python",
   "nbconvert_exporter": "python",
   "pygments_lexer": "ipython3",
   "version": "3.9.21"
  }
 },
 "nbformat": 4,
 "nbformat_minor": 5
}
